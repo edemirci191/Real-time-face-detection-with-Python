{
  "nbformat": 4,
  "nbformat_minor": 0,
  "metadata": {
    "colab": {
      "name": "realtime-face-recognition.ipynb",
      "provenance": [],
      "collapsed_sections": []
    },
    "kernelspec": {
      "name": "python3",
      "display_name": "Python 3"
    },
    "language_info": {
      "name": "python"
    }
  },
  "cells": [
    {
      "cell_type": "code",
      "metadata": {
        "id": "9yqK1X26qvmA"
      },
      "source": [
        "import imutils\n",
        "import numpy as np\n",
        "import cv2\n",
        "from google.colab.patches import cv2_imshow\n",
        "from IPython.display import display, Javascript\n",
        "from google.colab.output import eval_js\n",
        "from base64 import b64decode"
      ],
      "execution_count": null,
      "outputs": []
    },
    {
      "cell_type": "code",
      "metadata": {
        "id": "6MS6thN2q0O4"
      },
      "source": [
        "def take_photo(filename='photo.jpg', quality=0.8):\n",
        "  js = Javascript('''\n",
        "    async function takePhoto(quality) {\n",
        "      const div = document.createElement('div');\n",
        "      const capture = document.createElement('button');\n",
        "      capture.textContent = 'Capture';\n",
        "      div.appendChild(capture);\n",
        "\n",
        "      const video = document.createElement('video');\n",
        "      video.style.display = 'block';\n",
        "      const stream = await navigator.mediaDevices.getUserMedia({video: true});\n",
        "\n",
        "      document.body.appendChild(div);\n",
        "      div.appendChild(video);\n",
        "      video.srcObject = stream;\n",
        "      await video.play();\n",
        "\n",
        "      // Resize the output to fit the video element.\n",
        "      google.colab.output.setIframeHeight(document.documentElement.scrollHeight, true);\n",
        "\n",
        "      // Wait for Capture to be clicked.\n",
        "      //await new Promise((resolve) => capture.onclick = resolve);\n",
        "\n",
        "      const canvas = document.createElement('canvas');\n",
        "      canvas.width = video.videoWidth;\n",
        "      canvas.height = video.videoHeight;\n",
        "      canvas.getContext('2d').drawImage(video, 0, 0);\n",
        "      stream.getVideoTracks()[0].stop();\n",
        "      div.remove();\n",
        "      return canvas.toDataURL('image/jpeg', quality);\n",
        "    }\n",
        "    ''')\n",
        "  display(js)\n",
        "  data = eval_js('takePhoto({})'.format(quality))\n",
        "  binary = b64decode(data.split(',')[1])\n",
        "  with open(filename, 'wb') as f:\n",
        "    f.write(binary)\n",
        "  return filename"
      ],
      "execution_count": null,
      "outputs": []
    },
    {
      "cell_type": "markdown",
      "metadata": {
        "id": "lTr1-26Dwx2e"
      },
      "source": [
        "ADD YOUR DESIRED URL"
      ]
    },
    {
      "cell_type": "code",
      "metadata": {
        "id": "HNgWVzDfq5TW"
      },
      "source": [
        "from IPython.display import Javascript\n",
        "def open_web():\n",
        "    url = 'your favourite URL' # make sure you allow pop ıps\n",
        "    display(Javascript('window.open(\"{url}\");'.format(url=url)))"
      ],
      "execution_count": 28,
      "outputs": []
    },
    {
      "cell_type": "markdown",
      "metadata": {
        "id": "SIaRr3DWw2O4"
      },
      "source": [
        "FILL THE INFORMATION\n",
        "\n",
        "In order to send e mail from gmail you should turn on this button from this link but be aware of security vulnerabilities \"https://www.google.com/settings/security/lesssecureapps\""
      ]
    },
    {
      "cell_type": "code",
      "metadata": {
        "id": "YKmC3TLsveQe"
      },
      "source": [
        "def send_mail():  \n",
        "  # Import Python Packages\n",
        "  import smtplib\n",
        "  # Set Global Variables\n",
        "  gmail_user = 'your_email'\n",
        "  gmail_password = 'your_password'\n",
        "\n",
        "  mail_from = gmail_user\n",
        "  mail_to = 'destination_mailadress'\n",
        "  mail_subject = ''\n",
        "  mail_message_body = ''\n",
        "\n",
        "  mail_message = '''\\\n",
        "  From: %s\n",
        "  To: %s\n",
        "  Subject: %s\n",
        "  %s\n",
        "  ''' % (mail_from, mail_to, mail_subject, mail_message_body)\n",
        "  server = smtplib.SMTP_SSL('smtp.gmail.com', 465)\n",
        "  server.login(gmail_user, gmail_password)\n",
        "  server.sendmail(mail_from, mail_to, mail_message)\n",
        "  server.close()"
      ],
      "execution_count": null,
      "outputs": []
    },
    {
      "cell_type": "markdown",
      "metadata": {
        "id": "h08WYm45w5fv"
      },
      "source": [
        "Delete comment from lines 33 or 34 in the below code depending on your choice and have fun\n",
        "\n"
      ]
    },
    {
      "cell_type": "code",
      "metadata": {
        "id": "PGu3jaNWq1e8"
      },
      "source": [
        "import webbrowser\n",
        "import time\n",
        "a = 0\n",
        "while a == 0:\n",
        "  image_file = take_photo()\n",
        "  time.sleep(5) # sample rate takes 1 picture in 1 second this way you can change the value as you wish\n",
        "  #image = cv2.imread(image_file, cv2.IMREAD_UNCHANGED)\n",
        "  image = cv2.imread(image_file)\n",
        "\n",
        "  # resize it to have a maximum width of 400 pixels\n",
        "  image = imutils.resize(image, width=400)\n",
        "  (h, w) = image.shape[:2]\n",
        "  print(w,h)\n",
        "  cv2_imshow(image)\n",
        "\n",
        "  !wget -N https://raw.githubusercontent.com/opencv/opencv/master/samples/dnn/face_detector/deploy.prototxt\n",
        "  !wget -N https://raw.githubusercontent.com/opencv/opencv_3rdparty/dnn_samples_face_detector_20170830/res10_300x300_ssd_iter_140000.caffemodel\n",
        "  print(\"[INFO] loading model...\")\n",
        "  prototxt = 'deploy.prototxt'\n",
        "  model = 'res10_300x300_ssd_iter_140000.caffemodel'\n",
        "  net = cv2.dnn.readNetFromCaffe(prototxt, model)\n",
        "  # resize it to have a maximum width of 400 pixels\n",
        "  image = imutils.resize(image, width=400)\n",
        "  blob = cv2.dnn.blobFromImage(cv2.resize(image, (300, 300)), 1.0, (300, 300), (104.0, 177.0, 123.0))\n",
        "  print(\"[INFO] computing object detections...\")\n",
        "  net.setInput(blob)\n",
        "  detections = net.forward()\n",
        "\n",
        "  for i in range(0, detections.shape[2]):\n",
        "    # extract the confidence (i.e., probability) associated with the prediction\n",
        "    confidence = detections[0, 0, i, 2]\n",
        "    if confidence > 0.5: \n",
        "      #send_mail()\n",
        "      #open_web()\n",
        "      a = 1\n",
        "    else:\n",
        "      False  "
      ],
      "execution_count": null,
      "outputs": []
    }
  ]
}